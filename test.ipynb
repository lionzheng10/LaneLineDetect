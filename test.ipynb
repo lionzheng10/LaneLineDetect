{
 "cells": [
  {
   "cell_type": "code",
   "execution_count": 46,
   "metadata": {
    "collapsed": false,
    "deletable": true,
    "editable": true
   },
   "outputs": [],
   "source": [
    "import math\n",
    "\n",
    "def line_to_point(x1,y1,x2,y2,grid):\n",
    "    pointX = []\n",
    "    pointY = []\n",
    "\n",
    "    length = int(((x1-x2)**2 + (y1-y2)**2)**0.5)\n",
    "    cycle_number = int(length/grid)\n",
    "\n",
    "    #line slope\n",
    "    if x2 != x1:\n",
    "        alpha = math.atan((y2-y1)/(x2-x1))\n",
    "    elif y2 >= y1:\n",
    "        alpha = math.pi/2\n",
    "    else:\n",
    "        alpha = -math.pi/2\n",
    "    alpha_deg = math.degrees(alpha)\n",
    "\n",
    "    #point from point0, one by one\n",
    "    for i in range(0, cycle_number + 1):\n",
    "        if x1 <= x2:\n",
    "            pointX.append(x1 + i*grid*math.cos(alpha))\n",
    "            pointY.append(y1 + i*grid*math.sin(alpha))\n",
    "        else:\n",
    "            pointX.append(x1 - i*grid*math.cos(alpha))\n",
    "            pointY.append(y1 - i*grid*math.sin(alpha))\n",
    "\n",
    "    return (pointX,pointY)"
   ]
  },
  {
   "cell_type": "code",
   "execution_count": 58,
   "metadata": {
    "collapsed": false,
    "deletable": true,
    "editable": true,
    "scrolled": true
   },
   "outputs": [
    {
     "name": "stdout",
     "output_type": "stream",
     "text": [
      "[[0.0, 1.4142135623730951, 2.8284271247461903, 4.242640687119286, 5.656854249492381, 7.0710678118654755, 8.485281374238571, 9.899494936611665], [0.0, 1.4142135623730951, 2.8284271247461903, 4.242640687119286, 5.656854249492381, 7.0710678118654755, 8.485281374238571, 9.899494936611665]]\n",
      "--------------------------------------\n",
      "[0.0, 1.4142135623730951, 2.8284271247461903, 4.242640687119286, 5.656854249492381, 7.0710678118654755, 8.485281374238571, 9.899494936611665, 0.0, 1.4142135623730951, 2.8284271247461903, 4.242640687119286, 5.656854249492381, 7.0710678118654755, 8.485281374238571, 9.899494936611665]\n"
     ]
    }
   ],
   "source": [
    "pointX = []\n",
    "pointX.append((line_to_point(0,0,10,10,2)[0]))\n",
    "pointX.append((line_to_point(0,0,10,10,2)[0]))\n",
    "print(pointX)\n",
    "print('--------------------------------------')\n",
    "pointX = sum(pointX,[])\n",
    "print(pointX)\n"
   ]
  },
  {
   "cell_type": "code",
   "execution_count": 1,
   "metadata": {
    "collapsed": false,
    "deletable": true,
    "editable": true
   },
   "outputs": [
    {
     "data": {
      "text/plain": [
       "4"
      ]
     },
     "execution_count": 1,
     "metadata": {},
     "output_type": "execute_result"
    }
   ],
   "source": [
    "index2 = [1,3,3,3]\n",
    "len(index2)"
   ]
  },
  {
   "cell_type": "code",
   "execution_count": null,
   "metadata": {
    "collapsed": true,
    "deletable": true,
    "editable": true
   },
   "outputs": [],
   "source": [
    "def draw_lines(img, lines, color=[255, 0, 0], thickness=2):\n",
    "    \n",
    "    NOTE: this is the function you might want to use as a starting point once you want to \n",
    "    average/extrapolate the line segments you detect to map out the full\n",
    "    extent of the lane (going from the result shown in raw-lines-example.mp4\n",
    "    to that shown in P1_example.mp4).  \n",
    "    \n",
    "    Think about things like separating line segments by their \n",
    "    slope ((y2-y1)/(x2-x1)) to decide which segments are part of the left\n",
    "    line vs. the right line.  Then, you can average the position of each of \n",
    "    the lines and extrapolate to the top and bottom of the lane.\n",
    "    \n",
    "    This function draws `lines` with `color` and `thickness`.    \n",
    "    Lines are drawn on the image inplace (mutates the image).\n",
    "    If you want to make the lines semi-transparent, think about combining\n",
    "    this function with the weighted_img() function below\n",
    "    \n",
    "    for line in lines:\n",
    "        for x1,y1,x2,y2 in line:\n",
    "            \n",
    "            \n",
    "            cv2.line(img, (x1, y1), (x2, y2), color, thickness)"
   ]
  },
  {
   "cell_type": "code",
   "execution_count": 61,
   "metadata": {
    "collapsed": false,
    "deletable": true,
    "editable": true
   },
   "outputs": [
    {
     "data": {
      "image/png": "[encoded data removed]",
      "text/plain": [
       "<matplotlib.figure.Figure at 0x7dc5710>"
      ]
     },
     "metadata": {},
     "output_type": "display_data"
    }
   ],
   "source": [
    "import numpy as np\n",
    "import pylab as pl\n",
    " \n",
    "x = [1, 2, 3, 4, 5]# Make an array of x values\n",
    "y = [1, 4, 9, 16, 25]# Make an array of y values for each x value\n",
    " \n",
    "pl.plot(x, y,'o')# use pylab to plot x and y\n",
    "pl.show()# show the plot on the screen"
   ]
  },
  {
   "cell_type": "code",
   "execution_count": null,
   "metadata": {
    "collapsed": true,
    "deletable": true,
    "editable": true
   },
   "outputs": [],
   "source": []
  }
 ],
 "metadata": {
  "kernelspec": {
   "display_name": "Python 3",
   "language": "python",
   "name": "python3"
  },
  "language_info": {
   "codemirror_mode": {
    "name": "ipython",
    "version": 3
   },
   "file_extension": ".py",
   "mimetype": "text/x-python",
   "name": "python",
   "nbconvert_exporter": "python",
   "pygments_lexer": "ipython3",
   "version": "3.5.2"
  },
  "widgets": {
   "state": {},
   "version": "1.1.2"
  }
 },
 "nbformat": 4,
 "nbformat_minor": 2
}
